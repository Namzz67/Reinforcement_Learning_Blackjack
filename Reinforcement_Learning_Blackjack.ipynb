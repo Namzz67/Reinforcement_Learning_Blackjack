{
 "cells": [
  {
   "cell_type": "code",
   "execution_count": null,
   "metadata": {},
   "outputs": [],
   "source": [
    "import gymnasium as gym\n",
    "import numpy as np\n",
    "import random\n",
    "\n",
    "env = gym.make(\"Blackjack-v1\", sab=True)  # Using Stable API (sab=True)"
   ]
  },
  {
   "cell_type": "markdown",
   "metadata": {},
   "source": [
    "## Implement Q-Learning for Blackjack"
   ]
  },
  {
   "cell_type": "markdown",
   "metadata": {},
   "source": [
    "#### Define Q-Learning Parameters"
   ]
  },
  {
   "cell_type": "code",
   "execution_count": null,
   "metadata": {},
   "outputs": [],
   "source": [
    "Q_table = {}\n",
    "\n",
    "# Hyperparameters\n",
    "alpha = 0.1   # Learning rate\n",
    "gamma = 0.9   # Discount factor\n",
    "epsilon = 1.0 # Initial exploration rate\n",
    "epsilon_decay = 0.999  # Decay rate for exploration\n",
    "epsilon_min = 0.1      # Minimum exploration rate\n",
    "episodes = 500_000     # Number of episodes"
   ]
  },
  {
   "cell_type": "markdown",
   "metadata": {},
   "source": [
    "#### Q-Learning Algorithm"
   ]
  },
  {
   "cell_type": "code",
   "execution_count": null,
   "metadata": {},
   "outputs": [
    {
     "name": "stdout",
     "output_type": "stream",
     "text": [
      "Episode 0: Epsilon 0.9990\n",
      "Episode 50000: Epsilon 0.1000\n",
      "Episode 100000: Epsilon 0.1000\n",
      "Episode 150000: Epsilon 0.1000\n",
      "Episode 200000: Epsilon 0.1000\n",
      "Episode 250000: Epsilon 0.1000\n",
      "Episode 300000: Epsilon 0.1000\n",
      "Episode 350000: Epsilon 0.1000\n",
      "Episode 400000: Epsilon 0.1000\n",
      "Episode 450000: Epsilon 0.1000\n",
      "Training complete!\n"
     ]
    }
   ],
   "source": [
    "def get_Q(state, action=None):\n",
    "    \"\"\"Get Q-value for a state-action pair, initializing to 0 if unseen.\"\"\"\n",
    "    if state not in Q_table:\n",
    "        Q_table[state] = np.zeros(2)  # Two actions: Stick (0) or Hit (1)\n",
    "    return Q_table[state] if action is None else Q_table[state][action]\n",
    "\n",
    "# Training loop\n",
    "for episode in range(episodes):\n",
    "    state, _ = env.reset()\n",
    "    done = False\n",
    "    \n",
    "    while not done:\n",
    "        get_Q(state)\n",
    "\n",
    "        # Epsilon-greedy action selection\n",
    "        if random.uniform(0, 1) < epsilon:\n",
    "            action = env.action_space.sample()  # Explore\n",
    "        else:\n",
    "            action = np.argmax(get_Q(state))  # Exploit\n",
    "\n",
    "        # Take action and observe reward & next state\n",
    "        next_state, reward, done, truncated, _ = env.step(action)\n",
    "\n",
    "        # Ensure the next state is in the Q-table\n",
    "        get_Q(next_state)\n",
    "        \n",
    "        # Q-learning update rule\n",
    "        best_next_action = np.argmax(get_Q(next_state))\n",
    "        Q_table[state][action] += alpha * (reward + gamma * get_Q(next_state, best_next_action) - Q_table[state][action])\n",
    "\n",
    "        # Move to next state\n",
    "        state = next_state\n",
    "\n",
    "    # Decay exploration rate\n",
    "    epsilon = max(epsilon_min, epsilon * epsilon_decay)\n",
    "\n",
    "    # Print progress every 50,000 episodes\n",
    "    if episode % 50000 == 0:\n",
    "        print(f\"Episode {episode}: Epsilon {epsilon:.4f}\")\n",
    "\n",
    "print(\"Training complete!\")\n"
   ]
  },
  {
   "cell_type": "markdown",
   "metadata": {},
   "source": [
    "#### Test the Trained Agent"
   ]
  },
  {
   "cell_type": "code",
   "execution_count": 5,
   "metadata": {},
   "outputs": [
    {
     "name": "stdout",
     "output_type": "stream",
     "text": [
      "Results after 10000 games:\n",
      "Wins: 3946 (39.46%)\n",
      "Losses: 5200 (52.00%)\n",
      "Draws: 854 (8.54%)\n"
     ]
    }
   ],
   "source": [
    "wins, losses, draws = 0, 0, 0\n",
    "test_episodes = 10_000\n",
    "\n",
    "for _ in range(test_episodes):\n",
    "    state, _ = env.reset()\n",
    "    done = False\n",
    "    \n",
    "    while not done:\n",
    "        action = np.argmax(get_Q(state))\n",
    "        next_state, reward, done, truncated, _ = env.step(action)\n",
    "        state = next_state\n",
    "\n",
    "    if reward > 0:\n",
    "        wins += 1\n",
    "    elif reward < 0:\n",
    "        losses += 1\n",
    "    else:\n",
    "        draws += 1\n",
    "\n",
    "print(f\"Results after {test_episodes} games:\")\n",
    "print(f\"Wins: {wins} ({wins/test_episodes:.2%})\")\n",
    "print(f\"Losses: {losses} ({losses/test_episodes:.2%})\")\n",
    "print(f\"Draws: {draws} ({draws/test_episodes:.2%})\")\n"
   ]
  },
  {
   "cell_type": "code",
   "execution_count": null,
   "metadata": {},
   "outputs": [],
   "source": []
  }
 ],
 "metadata": {
  "kernelspec": {
   "display_name": "Python 3",
   "language": "python",
   "name": "python3"
  },
  "language_info": {
   "codemirror_mode": {
    "name": "ipython",
    "version": 3
   },
   "file_extension": ".py",
   "mimetype": "text/x-python",
   "name": "python",
   "nbconvert_exporter": "python",
   "pygments_lexer": "ipython3",
   "version": "3.9.13"
  }
 },
 "nbformat": 4,
 "nbformat_minor": 2
}
